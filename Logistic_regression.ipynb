{
  "nbformat": 4,
  "nbformat_minor": 0,
  "metadata": {
    "colab": {
      "name": "Logistic regression.ipynb",
      "provenance": [],
      "collapsed_sections": [],
      "authorship_tag": "ABX9TyOwQoosU1yEq6qqwu5iQNWj",
      "include_colab_link": true
    },
    "kernelspec": {
      "name": "python3",
      "display_name": "Python 3"
    },
    "language_info": {
      "name": "python"
    },
    "accelerator": "GPU"
  },
  "cells": [
    {
      "cell_type": "markdown",
      "metadata": {
        "id": "view-in-github",
        "colab_type": "text"
      },
      "source": [
        "<a href=\"https://colab.research.google.com/github/Wiz80/Deep-Learning/blob/master/Logistic_regression.ipynb\" target=\"_parent\"><img src=\"https://colab.research.google.com/assets/colab-badge.svg\" alt=\"Open In Colab\"/></a>"
      ]
    },
    {
      "cell_type": "code",
      "source": [
        "import numpy as np\n",
        "import matplotlib.pyplot as plt"
      ],
      "metadata": {
        "id": "BkJItK3fz1CB"
      },
      "execution_count": null,
      "outputs": []
    },
    {
      "cell_type": "markdown",
      "source": [
        "El dataset a usar tiene en cuenta ciertas caracteristicas de casas como el indice de seguridad del barrio, número de habitaciones, el área, etc. Por otra parte los targets son los precios que cada casa con sus respectivas caracteristicas tiene "
      ],
      "metadata": {
        "id": "d8oMI_dpww6c"
      }
    },
    {
      "cell_type": "code",
      "execution_count": null,
      "metadata": {
        "id": "jFEJb8iZLYpC",
        "colab": {
          "base_uri": "https://localhost:8080/"
        },
        "outputId": "b1f842ea-97eb-488a-c2fa-f7a69b92c119"
      },
      "outputs": [
        {
          "output_type": "stream",
          "name": "stdout",
          "text": [
            "Downloading data from https://storage.googleapis.com/tensorflow/tf-keras-datasets/boston_housing.npz\n",
            "57344/57026 [==============================] - 0s 0us/step\n",
            "65536/57026 [==================================] - 0s 0us/step\n"
          ]
        }
      ],
      "source": [
        "from keras.datasets import boston_housing \n",
        "(train_data, train_targets), (test_data, test_targets) = boston_housing.load_data()"
      ]
    },
    {
      "cell_type": "code",
      "source": [
        "print(f'Valor mínimo : {min(train_targets)}')\n",
        "print(f'Valor máximo : {max(train_targets)}')"
      ],
      "metadata": {
        "colab": {
          "base_uri": "https://localhost:8080/"
        },
        "id": "dc9TOzqn-D2b",
        "outputId": "27b71c0b-8fa3-4518-c646-c7e1a8400abb"
      },
      "execution_count": null,
      "outputs": [
        {
          "output_type": "stream",
          "name": "stdout",
          "text": [
            "Valor mínimo : 5.0\n",
            "Valor máximo : 50.0\n"
          ]
        }
      ]
    },
    {
      "cell_type": "code",
      "source": [
        "plt.hist(train_targets, bins = 7)\n",
        "plt.title('Frecuencia de precios de casas en el dataset')\n",
        "plt.xlabel('Precios en miles de dolares')\n",
        "plt.ylabel('Número de casas')\n",
        "plt.show()"
      ],
      "metadata": {
        "colab": {
          "base_uri": "https://localhost:8080/",
          "height": 295
        },
        "id": "zRNMYpNQ_bF4",
        "outputId": "ccd8072b-473e-4369-eed3-750abcb08a81"
      },
      "execution_count": null,
      "outputs": [
        {
          "output_type": "display_data",
          "data": {
            "text/plain": [
              "<Figure size 432x288 with 1 Axes>"
            ],
            "image/png": "[encoded data removed]"
          },
          "metadata": {
            "needs_background": "light"
          }
        }
      ]
    },
    {
      "cell_type": "markdown",
      "source": [
        "\n",
        "Es necesario hacer una normalización de los datos\n",
        "\n",
        "![image.png](data:image/png;base64,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)"
      ],
      "metadata": {
        "id": "mKCj2vTaMnS7"
      }
    },
    {
      "cell_type": "code",
      "source": [
        "mean = train_data.mean(axis = 0)\n",
        "train_data -= mean\n",
        "std = train_data.std(axis = 0)\n",
        "train_data /= std\n",
        "test_data -= mean \n",
        "test_data /= std"
      ],
      "metadata": {
        "id": "HYnVKoC9MXDw"
      },
      "execution_count": null,
      "outputs": []
    },
    {
      "cell_type": "markdown",
      "source": [
        "Construcción del modelo\n"
      ],
      "metadata": {
        "id": "pSlJa7oQPeU5"
      }
    },
    {
      "cell_type": "code",
      "source": [
        "from keras import models\n",
        "from keras import layers\n",
        "def build_model():\n",
        "  model = models.Sequential()\n",
        "  model.add(layers.Dense(64, \n",
        "                         activation = 'relu', \n",
        "                         input_shape = (train_data.shape[1],)))\n",
        "\n",
        "  model.add(layers.Dense(64, activation = 'relu'))\n",
        "  model.add(layers.Dense(1))\n",
        "  model.compile(optimizer = 'rmsprop', loss = 'mse', metrics = ['mae'])\n",
        "  return model "
      ],
      "metadata": {
        "id": "Jl5dvAAQPbeJ"
      },
      "execution_count": null,
      "outputs": []
    },
    {
      "cell_type": "markdown",
      "source": [
        "Como el precio de las casas es un valor continuo, el último layer no tiene activación debido a que este layer es puramente lineal y permite que se prediga cualquier valor, sí se limitara una activación esta haría que se diera un valor por ejemplo con sigmoid entre 0 y 1.\n",
        "Usualmente es muy común ver la función de perdida mse para problemas de regresión.\n",
        "\n",
        "For instance, an MAE of 0.5 on this problem would mean your predictions are off by $500 on average. "
      ],
      "metadata": {
        "id": "RZygsxItS3cb"
      }
    },
    {
      "cell_type": "markdown",
      "source": [
        "Sí el dataset es muy pequeño generará problemas con las validaciones debido a que dependiendo de la cantidad de datos que se tomen dependerá el sesgo, esto porque empieza a influir en gran medida la cantidad de datos que se toman. Para evitar este problema se usa una forma de validación llamada k-fold cross-validation, que consiste en K particiones de los datos disponibles, con k modelos y entrenando k-1 particiones  \n",
        "\n",
        "![image.png](data:image/png;base64,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)"
      ],
      "metadata": {
        "id": "tptPSumTu7tK"
      }
    },
    {
      "cell_type": "code",
      "source": [
        "#K-fold validation\n",
        "k = 4\n",
        "num_val_samples = len(train_data) // k\n",
        "num_epochs = 100\n",
        "all_scores = []"
      ],
      "metadata": {
        "id": "wgCDDeITULDa"
      },
      "execution_count": null,
      "outputs": []
    },
    {
      "cell_type": "code",
      "source": [
        "for i in range(k):\n",
        "  print(f'processing fold # {i}')\n",
        "  val_data = train_data[i*num_val_samples : (i+1)*num_val_samples]\n",
        "  val_targets = train_targets[i*num_val_samples : (i+1)*num_val_samples]\n",
        "  \n",
        "  partial_train_data = np.concatenate(\n",
        "      [train_data[:i*num_val_samples],\n",
        "       train_data[(i+1)*num_val_samples:]],\n",
        "       axis = 0\n",
        "  )\n",
        "  \n",
        "  partial_train_targets = np.concatenate(\n",
        "      [train_targets[:i * num_val_samples],\n",
        "       train_targets[(i+1)* num_val_samples:]],\n",
        "       axis = 0\n",
        "  )\n",
        "\n",
        "  model = build_model()\n",
        "  model.fit(partial_train_data, \n",
        "            partial_train_targets,\n",
        "            epochs = num_epochs,\n",
        "            batch_size = 1, \n",
        "            verbose = 0)\n",
        "  \n",
        "  val_mse, val_mae = model.evaluate(val_data, val_targets, verbose = 0)\n",
        "  all_scores.append(val_mae)"
      ],
      "metadata": {
        "colab": {
          "base_uri": "https://localhost:8080/"
        },
        "id": "Jcr939sK0Gxs",
        "outputId": "8d06bd51-fe51-4ea1-888b-0479182e2a8b"
      },
      "execution_count": null,
      "outputs": [
        {
          "output_type": "stream",
          "name": "stdout",
          "text": [
            "processing fold # 0\n",
            "processing fold # 1\n",
            "processing fold # 2\n",
            "processing fold # 3\n"
          ]
        }
      ]
    },
    {
      "cell_type": "code",
      "source": [
        "all_scores"
      ],
      "metadata": {
        "colab": {
          "base_uri": "https://localhost:8080/"
        },
        "id": "jMK5sgtA9Day",
        "outputId": "87d2d81e-05bd-4d6a-87f8-0bff75544a3c"
      },
      "execution_count": null,
      "outputs": [
        {
          "output_type": "execute_result",
          "data": {
            "text/plain": [
              "[2.258559465408325, 2.3841052055358887, 2.509845733642578, 2.973301410675049]"
            ]
          },
          "metadata": {},
          "execution_count": 14
        }
      ]
    },
    {
      "cell_type": "code",
      "source": [
        "np.mean(all_scores)"
      ],
      "metadata": {
        "colab": {
          "base_uri": "https://localhost:8080/"
        },
        "id": "l34ZmDRMAU12",
        "outputId": "56ec094a-c51b-434b-b2b1-1bd7f92a8331"
      },
      "execution_count": null,
      "outputs": [
        {
          "output_type": "execute_result",
          "data": {
            "text/plain": [
              "2.53145295381546"
            ]
          },
          "metadata": {},
          "execution_count": 15
        }
      ]
    },
    {
      "cell_type": "code",
      "source": [
        "num_epochs = 500\n",
        "all_mae_histories = []\n",
        "\n",
        "for i in range(k):\n",
        "  print(f'processing fold # {i}')\n",
        "  val_data = train_data[i*num_val_samples : (i+1)*num_val_samples]\n",
        "  val_targets = train_targets[i*num_val_samples : (i+1)*num_val_samples]\n",
        "  \n",
        "  partial_train_data = np.concatenate(\n",
        "      [train_data[:i*num_val_samples],\n",
        "       train_data[(i+1)*num_val_samples:]],\n",
        "       axis = 0\n",
        "  )\n",
        "  \n",
        "  partial_train_targets = np.concatenate(\n",
        "      [train_targets[:i * num_val_samples],\n",
        "       train_targets[(i+1)* num_val_samples:]],\n",
        "       axis = 0\n",
        "  )\n",
        "\n",
        "  model = build_model()\n",
        "  history = model.fit(partial_train_data, \n",
        "            partial_train_targets,\n",
        "            epochs = num_epochs,\n",
        "            batch_size = 1, \n",
        "            verbose = 0)\n",
        "  \n",
        "  val_mse, val_mae = model.evaluate(val_data, val_targets, verbose = 0)\n",
        "  all_mae_histories.append(val_mae)"
      ],
      "metadata": {
        "colab": {
          "base_uri": "https://localhost:8080/"
        },
        "id": "nunD5P0_Abn9",
        "outputId": "7657fae5-7ec1-4993-ab9d-f5d45d31b111"
      },
      "execution_count": null,
      "outputs": [
        {
          "output_type": "stream",
          "name": "stdout",
          "text": [
            "processing fold # 0\n",
            "processing fold # 1\n",
            "processing fold # 2\n",
            "processing fold # 3\n"
          ]
        }
      ]
    },
    {
      "cell_type": "code",
      "source": [
        ""
      ],
      "metadata": {
        "id": "Yhosjbl6RFtU"
      },
      "execution_count": null,
      "outputs": []
    }
  ]
}