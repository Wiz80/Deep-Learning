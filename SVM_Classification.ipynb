{
  "nbformat": 4,
  "nbformat_minor": 0,
  "metadata": {
    "colab": {
      "name": "SVM Classification.ipynb",
      "provenance": [],
      "collapsed_sections": [],
      "authorship_tag": "ABX9TyPuOn9FKBk042sNAt5SoI84",
      "include_colab_link": true
    },
    "kernelspec": {
      "name": "python3",
      "display_name": "Python 3"
    },
    "language_info": {
      "name": "python"
    }
  },
  "cells": [
    {
      "cell_type": "markdown",
      "metadata": {
        "id": "view-in-github",
        "colab_type": "text"
      },
      "source": [
        "<a href=\"https://colab.research.google.com/github/Wiz80/Deep-Learning/blob/master/SVM_Classification.ipynb\" target=\"_parent\"><img src=\"https://colab.research.google.com/assets/colab-badge.svg\" alt=\"Open In Colab\"/></a>"
      ]
    },
    {
      "cell_type": "markdown",
      "source": [
        "##Linear Classifier using SVM\n",
        "This will be a classifier of flowers usign scikit-learn "
      ],
      "metadata": {
        "id": "IW2DUS2Z9YKc"
      }
    },
    {
      "cell_type": "code",
      "execution_count": 3,
      "metadata": {
        "id": "4DaLfEs-kP5-"
      },
      "outputs": [],
      "source": [
        "import numpy as np\n",
        "from sklearn import datasets\n",
        "'''\n",
        "Pipeline sirve como estimador, esta encargado en este caso de\n",
        "construir el modelo \n",
        "'''\n",
        "from sklearn.pipeline import Pipeline\n",
        "'''\n",
        "SVM es sensible a las escalas de los datos por esta razón se debe\n",
        "aplicar normalización de los datos\n",
        "'''\n",
        "from sklearn.preprocessing import StandardScaler\n",
        "'''\n",
        "En los datos pueden existir OUTLIERS los cuales pueden hacer\n",
        "que el algoritmo haga overfitting, para evitar esto Scikit-learn\n",
        "usa un parámetro que permite la entrada de outliers y que se haga\n",
        "una mejor separación de los datos\n",
        "'''\n",
        "from sklearn.svm import LinearSVC\n",
        "import matplotlib.pyplot as plt\n",
        "import seaborn as sns\n",
        "import pandas as pd"
      ]
    },
    {
      "cell_type": "code",
      "source": [
        "iris = datasets.load_iris()\n",
        "X = iris['data'][:, (2,3)] \n",
        "#Sólo se escogen como features el petal length y el petal width\n",
        "y = (iris['target'] == 2).astype(np.float64)\n",
        "#En el dataset se escoge un target a separar por el algoritmo\n",
        "#En este caso Iris-Virginica será la flor a clasificar\n",
        "data = {'Length': X[:,0],\n",
        "        'Width': X[:,1],\n",
        "        'Class': y}\n",
        "\n",
        "df = pd.DataFrame(data)\n",
        "p = sns.catplot(x = 'Width', y = 'Length', hue = \"Class\", data = df)"
      ],
      "metadata": {
        "colab": {
          "base_uri": "https://localhost:8080/",
          "height": 369
        },
        "id": "HZEI7e9i0phM",
        "outputId": "e7c3bcaf-5a22-4baf-ae02-11455968cadf"
      },
      "execution_count": null,
      "outputs": [
        {
          "output_type": "display_data",
          "data": {
            "text/plain": [
              "<Figure size 411.875x360 with 1 Axes>"
            ],
            "image/png": "[encoded data removed]"
          },
          "metadata": {
            "needs_background": "light"
          }
        }
      ]
    },
    {
      "cell_type": "code",
      "source": [
        "svm_clf = Pipeline([\n",
        "          ('scaler', StandardScaler()),\n",
        "          ('linear_svc', LinearSVC(C = 1, loss = 'hinge'))\n",
        "])\n",
        "\n",
        "\"\"\"\n",
        "La función de pérdida 'hinge' es la que permite aplicar la función\n",
        "de costo del SVM con la característica de permitir un parámetro\n",
        "adicional C para aumentar o disminuir la aceptación de outliers\n",
        "\"\"\"\n",
        "svm_clf.fit(X,y)"
      ],
      "metadata": {
        "id": "Hc1KpU-mmSvS"
      },
      "execution_count": null,
      "outputs": []
    },
    {
      "cell_type": "code",
      "source": [
        "svm_clf.predict([[5.5, 1.7]])"
      ],
      "metadata": {
        "colab": {
          "base_uri": "https://localhost:8080/"
        },
        "id": "CBtdagH60DKI",
        "outputId": "41b739d3-b1e6-42dd-b361-37227325869e"
      },
      "execution_count": null,
      "outputs": [
        {
          "output_type": "execute_result",
          "data": {
            "text/plain": [
              "array([1.])"
            ]
          },
          "metadata": {},
          "execution_count": 6
        }
      ]
    },
    {
      "cell_type": "markdown",
      "source": [
        "##Non-Linear Classifier using SVM with linear SVC\n",
        "\n",
        "For try a classifier using SVM with non-linear dataset caracteristic patterns we use polynomial features from Scikit-Learn "
      ],
      "metadata": {
        "id": "KVLEm3KR9qKN"
      }
    },
    {
      "cell_type": "code",
      "source": [
        "from sklearn.datasets import make_moons #dataset\n",
        "from sklearn.preprocessing import PolynomialFeatures"
      ],
      "metadata": {
        "id": "Vlybjlyw-AOR"
      },
      "execution_count": 6,
      "outputs": []
    },
    {
      "cell_type": "code",
      "source": [
        "X, y= make_moons()\n",
        "data = {'X1': X[:,0],\n",
        "        'X2': X[:,1],\n",
        "        'Class': y}\n",
        "\n",
        "df = pd.DataFrame(data)\n",
        "plt.figure(figsize=(20, 10))\n",
        "p = sns.catplot(x = 'X1', y = 'X2', hue = \"Class\", data = df)\n",
        "plt.show()"
      ],
      "metadata": {
        "colab": {
          "base_uri": "https://localhost:8080/",
          "height": 386
        },
        "id": "rhAxKChs-sHY",
        "outputId": "f798eb00-6928-4acf-bbbf-c22baf123da4"
      },
      "execution_count": 7,
      "outputs": [
        {
          "output_type": "display_data",
          "data": {
            "text/plain": [
              "<Figure size 1440x720 with 0 Axes>"
            ]
          },
          "metadata": {}
        },
        {
          "output_type": "display_data",
          "data": {
            "text/plain": [
              "<Figure size 402.375x360 with 1 Axes>"
            ],
            "image/png": "[encoded data removed]"
          },
          "metadata": {
            "needs_background": "light"
          }
        }
      ]
    },
    {
      "cell_type": "code",
      "source": [
        "polynomial_svm_clf = Pipeline([\n",
        "    (\"poly_features\", PolynomialFeatures(degree= 3)),\n",
        "    (\"scaler\", StandardScaler()),\n",
        "    (\"svm_clf\", LinearSVC(C = 10, loss = \"hinge\"))\n",
        "])\n",
        "polynomial_svm_clf.fit(X,y)"
      ],
      "metadata": {
        "colab": {
          "base_uri": "https://localhost:8080/"
        },
        "id": "VgnlPkse-MPs",
        "outputId": "611c7374-c52b-446a-f962-e5cfe42a74ee"
      },
      "execution_count": null,
      "outputs": [
        {
          "output_type": "stream",
          "name": "stderr",
          "text": [
            "/usr/local/lib/python3.7/dist-packages/sklearn/svm/_base.py:1208: ConvergenceWarning: Liblinear failed to converge, increase the number of iterations.\n",
            "  ConvergenceWarning,\n"
          ]
        },
        {
          "output_type": "execute_result",
          "data": {
            "text/plain": [
              "Pipeline(steps=[('poly_features', PolynomialFeatures(degree=3)),\n",
              "                ('scaler', StandardScaler()),\n",
              "                ('svm_clf', LinearSVC(C=10, loss='hinge'))])"
            ]
          },
          "metadata": {},
          "execution_count": 53
        }
      ]
    },
    {
      "cell_type": "code",
      "source": [
        "print(np.mean(data['X1']))\n",
        "print(np.mean(data['X2']))"
      ],
      "metadata": {
        "colab": {
          "base_uri": "https://localhost:8080/"
        },
        "id": "h-OTDGTAA2ZT",
        "outputId": "59c814d5-79f2-4e5e-99b0-2dac07c00085"
      },
      "execution_count": null,
      "outputs": [
        {
          "output_type": "stream",
          "name": "stdout",
          "text": [
            "0.5\n",
            "0.25\n"
          ]
        }
      ]
    },
    {
      "cell_type": "code",
      "source": [
        "polynomial_svm_clf.predict([[0.5, 0.25]])"
      ],
      "metadata": {
        "colab": {
          "base_uri": "https://localhost:8080/"
        },
        "id": "6aw_JdIc-nZH",
        "outputId": "6aeadfd4-970e-4135-d69b-69cde7b9b1b6"
      },
      "execution_count": null,
      "outputs": [
        {
          "output_type": "execute_result",
          "data": {
            "text/plain": [
              "array([0])"
            ]
          },
          "metadata": {},
          "execution_count": 56
        }
      ]
    },
    {
      "cell_type": "markdown",
      "source": [
        "##Non-linear classification using SVM with polynomial Kernel\n",
        "\n",
        "El algoritmo anterior tiene problemas de performance cuando el dataset es muy grande debido a que puede crear una gran variedad de combinación de features que hace que sea computacionalmente lento"
      ],
      "metadata": {
        "id": "EMO7tau3vdRt"
      }
    },
    {
      "cell_type": "code",
      "source": [
        "from sklearn.svm import SVC"
      ],
      "metadata": {
        "id": "ny0ilFfTv9qN"
      },
      "execution_count": 1,
      "outputs": []
    },
    {
      "cell_type": "code",
      "source": [
        "poly_kernel_svm_clf = Pipeline([\n",
        "    (\"scaler\", StandardScaler()),\n",
        "    (\"svm_clf\", SVC(kernel = \"poly\", degree = 3, coef0 = 1, C= 5))\n",
        "])\n",
        "\"\"\"\n",
        "Se usa un kernel de tercer grado polinomial y dependiendo de su \n",
        "performance puede estar presentando overfitting o underfitting,\n",
        "coef0 representa que tanto el modelo se deja afectar por valores polinomiales\n",
        "altos vs valores polinomiales bajos\n",
        "\"\"\"\n",
        "poly_kernel_svm_clf.fit(X,y)"
      ],
      "metadata": {
        "colab": {
          "base_uri": "https://localhost:8080/"
        },
        "id": "PC5sx8zYwHhw",
        "outputId": "f6e95bef-d83b-4894-a073-de216217079f"
      },
      "execution_count": 10,
      "outputs": [
        {
          "output_type": "execute_result",
          "data": {
            "text/plain": [
              "Pipeline(steps=[('scaler', StandardScaler()),\n",
              "                ('svm_clf', SVC(C=5, coef0=1, kernel='poly'))])"
            ]
          },
          "metadata": {},
          "execution_count": 10
        }
      ]
    },
    {
      "cell_type": "code",
      "source": [
        "poly_kernel_svm_clf.predict([[0.5, 0.25]])"
      ],
      "metadata": {
        "colab": {
          "base_uri": "https://localhost:8080/"
        },
        "id": "NGAuY3ALwn-I",
        "outputId": "9e087540-7f56-48be-9577-7bf8c7574b1a"
      },
      "execution_count": 9,
      "outputs": [
        {
          "output_type": "execute_result",
          "data": {
            "text/plain": [
              "array([1])"
            ]
          },
          "metadata": {},
          "execution_count": 9
        }
      ]
    },
    {
      "cell_type": "markdown",
      "source": [
        "##Gaussian RBF kernel"
      ],
      "metadata": {
        "id": "cchTzBERzuxS"
      }
    },
    {
      "cell_type": "code",
      "source": [
        "rbf_kernel_svm_clf = Pipeline([\n",
        "     (\"scaler\", StandardScaler()),\n",
        "     (\"svm_clf\", SVC(kernel=\"rbf\", gamma=5, C=0.001))\n",
        "]) \n",
        "rbf_kernel_svm_clf.fit(X, y) "
      ],
      "metadata": {
        "colab": {
          "base_uri": "https://localhost:8080/"
        },
        "id": "UyUIj5AvzzF8",
        "outputId": "ae4b64ab-9b79-4446-81c7-3c8a984e9a69"
      },
      "execution_count": 11,
      "outputs": [
        {
          "output_type": "execute_result",
          "data": {
            "text/plain": [
              "Pipeline(steps=[('scaler', StandardScaler()),\n",
              "                ('svm_clf', SVC(C=0.001, gamma=5))])"
            ]
          },
          "metadata": {},
          "execution_count": 11
        }
      ]
    },
    {
      "cell_type": "code",
      "source": [
        "rbf_kernel_svm_clf.predict([[0.5, 0.25]])"
      ],
      "metadata": {
        "colab": {
          "base_uri": "https://localhost:8080/"
        },
        "id": "WsEbSYB7z9Qo",
        "outputId": "1cf06458-b705-41a9-e3fe-bc6421cf24fd"
      },
      "execution_count": 12,
      "outputs": [
        {
          "output_type": "execute_result",
          "data": {
            "text/plain": [
              "array([0])"
            ]
          },
          "metadata": {},
          "execution_count": 12
        }
      ]
    },
    {
      "cell_type": "markdown",
      "source": [
        "\" So γ  acts like a regularization hyperparameter: if your model is overfitting, you should reduce it, and if it is under‐ fitting, you should increase it (similar to the C hyperparameter). \""
      ],
      "metadata": {
        "id": "fdpsbLTO0Tz2"
      }
    }
  ]
}